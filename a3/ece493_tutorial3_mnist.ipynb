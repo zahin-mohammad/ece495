{
 "cells": [
  {
   "cell_type": "markdown",
   "metadata": {},
   "source": [
    "# First import pytorch requirements\n",
    "\n",
    "Usually you important everything at the top of your python file or jupyter notebook but I have explanations as we go through this and only import the minimum requirements."
   ]
  },
  {
   "cell_type": "code",
   "execution_count": 1,
   "metadata": {},
   "outputs": [],
   "source": [
    "# pytorch library\n",
    "import torch"
   ]
  },
  {
   "cell_type": "markdown",
   "metadata": {},
   "source": [
    "# Load MNIST and verify"
   ]
  },
  {
   "cell_type": "code",
   "execution_count": 2,
   "metadata": {},
   "outputs": [
    {
     "name": "stderr",
     "output_type": "stream",
     "text": [
      "\r",
      "0it [00:00, ?it/s]"
     ]
    },
    {
     "name": "stdout",
     "output_type": "stream",
     "text": [
      "Downloading http://yann.lecun.com/exdb/mnist/train-images-idx3-ubyte.gz to data/MNIST/raw/train-images-idx3-ubyte.gz\n"
     ]
    },
    {
     "name": "stderr",
     "output_type": "stream",
     "text": [
      "9920512it [00:04, 2053126.81it/s]                             \n"
     ]
    },
    {
     "name": "stdout",
     "output_type": "stream",
     "text": [
      "Extracting data/MNIST/raw/train-images-idx3-ubyte.gz to data/MNIST/raw\n"
     ]
    },
    {
     "name": "stderr",
     "output_type": "stream",
     "text": [
      "\r",
      "0it [00:00, ?it/s]"
     ]
    },
    {
     "name": "stdout",
     "output_type": "stream",
     "text": [
      "Downloading http://yann.lecun.com/exdb/mnist/train-labels-idx1-ubyte.gz to data/MNIST/raw/train-labels-idx1-ubyte.gz\n"
     ]
    },
    {
     "name": "stderr",
     "output_type": "stream",
     "text": [
      "32768it [00:00, 53075.95it/s]            \n",
      "0it [00:00, ?it/s]"
     ]
    },
    {
     "name": "stdout",
     "output_type": "stream",
     "text": [
      "Extracting data/MNIST/raw/train-labels-idx1-ubyte.gz to data/MNIST/raw\n",
      "Downloading http://yann.lecun.com/exdb/mnist/t10k-images-idx3-ubyte.gz to data/MNIST/raw/t10k-images-idx3-ubyte.gz\n"
     ]
    },
    {
     "name": "stderr",
     "output_type": "stream",
     "text": [
      "1654784it [00:01, 1226034.07it/s]                             \n",
      "0it [00:00, ?it/s]"
     ]
    },
    {
     "name": "stdout",
     "output_type": "stream",
     "text": [
      "Extracting data/MNIST/raw/t10k-images-idx3-ubyte.gz to data/MNIST/raw\n",
      "Downloading http://yann.lecun.com/exdb/mnist/t10k-labels-idx1-ubyte.gz to data/MNIST/raw/t10k-labels-idx1-ubyte.gz\n"
     ]
    },
    {
     "name": "stderr",
     "output_type": "stream",
     "text": [
      "8192it [00:00, 31556.31it/s]            \n"
     ]
    },
    {
     "name": "stdout",
     "output_type": "stream",
     "text": [
      "Extracting data/MNIST/raw/t10k-labels-idx1-ubyte.gz to data/MNIST/raw\n",
      "Processing...\n",
      "Done!\n",
      "Number of training examples: 60000\n",
      "Each with one image and one ground truth (gt) label: 2\n",
      "One image and one label (number)\n",
      "<PIL.Image.Image image mode=L size=28x28 at 0x7FEE6C685F10>\n",
      "5\n",
      "Lets take a look at the image size\n",
      "(28, 28)\n",
      "Lastly let's verify that the image and gt label match\n"
     ]
    },
    {
     "data": {
      "text/plain": [
       "<matplotlib.image.AxesImage at 0x7fee69e0b9d0>"
      ]
     },
     "execution_count": 2,
     "metadata": {},
     "output_type": "execute_result"
    }
   ],
   "source": [
    "# torchvision is a computer vision library that pytorch created for common datasets\n",
    "# https://pytorch.org/docs/stable/torchvision\n",
    "import torchvision\n",
    "# import MNIST loader\n",
    "from torchvision.datasets import MNIST\n",
    "\n",
    "# https://pytorch.org/docs/stable/torchvision/datasets.html#mnist\n",
    "# torchvision.datasets.MNIST(root, train=True, transform=None, target_transform=None, download=False)\n",
    "mnist_train_data = MNIST('data', train=True, download=True)\n",
    "\n",
    "print(\"Number of training examples:\", len(mnist_train_data))\n",
    "print(\"Each with one image and one ground truth (gt) label:\", len(mnist_train_data[0]))\n",
    "\n",
    "print(\"One image and one label (number)\")\n",
    "print(mnist_train_data[0][0])\n",
    "print(mnist_train_data[0][1])\n",
    "\n",
    "print(\"Lets take a look at the image size\")\n",
    "print(mnist_train_data[0][0].size)\n",
    "\n",
    "print(\"Lastly let's verify that the image and gt label match\")\n",
    "import matplotlib.pyplot as plt\n",
    "\n",
    "img, label = mnist_train_data[0]\n",
    "\n",
    "fig = plt.figure(figsize=(1,1))\n",
    "ax1 = fig.add_subplot(1,1,1)\n",
    "plt.title(label)\n",
    "ax1.imshow(img, cmap=\"gray\")"
   ]
  },
  {
   "cell_type": "markdown",
   "metadata": {},
   "source": [
    "# Create training transform and data loader"
   ]
  },
  {
   "cell_type": "code",
   "execution_count": 3,
   "metadata": {},
   "outputs": [
    {
     "data": {
      "image/png": "[encoded data removed]",
      "text/plain": [
       "<Figure size 72x72 with 1 Axes>"
      ]
     },
     "metadata": {
      "needs_background": "light"
     },
     "output_type": "display_data"
    }
   ],
   "source": [
    "# import data transforms\n",
    "# https://pytorch.org/docs/stable/torchvision/transforms.html\n",
    "# Take note of transforms.ToPILImage and transforms.ToTensor\n",
    "import torchvision.transforms as transforms\n",
    "\n",
    "# We want to give our neural network more exmaples. What transforms make sense for this data?\n",
    "# ColorJitter? Nope, the number is black and white\n",
    "# Crop or Flip? Nope, that could remove parts of the number or make it unreadable\n",
    "# RandomRotation? Yes, numbers can be slightly slanted\n",
    "# Normalize? Yes, you should always normalize\n",
    "\n",
    "mnist_train_tf = transforms.Compose([\n",
    "    transforms.RandomRotation([-10, 10]),\n",
    "    transforms.ToTensor(),\n",
    "    transforms.Normalize((0.1307,), (0.3081,)) # Supplied with dataset (mean, std)\n",
    "])\n",
    "\n",
    "# Let's test out the transform (without toTensor)\n",
    "img_tfed = transforms.RandomRotation([90, 90])(img)\n",
    "# Display the image\n",
    "fig = plt.figure(figsize=(1,1))\n",
    "ax1 = fig.add_subplot(1,1,1)\n",
    "plt.title(label)\n",
    "ax1.imshow(img_tfed, cmap=\"gray\")\n",
    "\n",
    "# https://pytorch.org/docs/stable/data.html#torch.utils.data.DataLoader\n",
    "from torch.utils.data import DataLoader\n",
    "\n",
    "# reimport MNIST with transform\n",
    "mnist_train_data_transformed = MNIST('data', train=True, download=True, transform=mnist_train_tf)\n",
    "\n",
    "# epoch = one iteration over the entire dataset\n",
    "# batch size = samples per batch within an epoch\n",
    "# shuffle = Set to True if your data is ordered\n",
    "# num_workers = number of subprocess to use when dataloading, set higher if you have many cpu cores\n",
    "train_loader = DataLoader(mnist_train_data_transformed, batch_size=4, shuffle=True, num_workers=2)"
   ]
  },
  {
   "cell_type": "markdown",
   "metadata": {},
   "source": [
    "# Important concepts to remember before creating the neural network"
   ]
  },
  {
   "cell_type": "markdown",
   "metadata": {},
   "source": [
    "Kernel - Convolution: https://en.wikipedia.org/wiki/Kernel_(image_processing)#Convolution\n",
    "- Weighted sum around a pixel\n",
    "- nn.Conv2d(in_channels, out_channels, kernel_size, stride=1)\n",
    "- nn.Conv2d(1, 32, 3, 1)\n",
    "\n",
    "Activation functions:https://en.wikipedia.org/wiki/Activation_function\n",
    "- Logistic - https://en.wikipedia.org/wiki/Logistic_function\n",
    "- ReLU - https://en.wikipedia.org/wiki/Rectifier_(neural_networks)\n",
    "\n",
    "Pooling: https://pytorch.org/docs/stable/nn.functional.html#pooling-functions\n",
    "- Downsample the feature map\n",
    "- Notable pooling functions: average and max\n",
    "\n",
    "Dropout: https://pytorch.org/docs/stable/nn.html#dropout-layers\n",
    "- Promote independence between feature maps\n",
    "- The dropout paper https://www.cs.toronto.edu/~hinton/absps/JMLRdropout.pdf\n",
    "\n",
    "Fully connected layers\n",
    "- First flatten the tensor\n",
    "- Goal is to classify the image based on given feature maps\n",
    "- Eventual output is the number of classes\n",
    "\n",
    "Final output layer\n",
    "- We want each class index to have probability\n",
    "- Can we use softmax? Takes vector and makes sum 1. https://pytorch.org/docs/stable/nn.html#torch.nn.Softmax no it has some issues with NLL loss https://ljvmiranda921.github.io/notebook/2017/08/13/softmax-and-the-negative-log-likelihood/\n",
    "- log softmax https://pytorch.org/docs/stable/nn.html#torch.nn.LogSoftmax\n",
    "\n",
    "\n",
    "Visualizing and Understanding Convolutional Networks\n",
    "https://arxiv.org/abs/1311.2901\n",
    "- Lines -> Lines/Curves/Corners -> Patterns -> Objects\n",
    "\n",
    "Even more detail:\n",
    "\n",
    "http://cs231n.github.io/convolutional-networks/\n",
    "\n",
    "https://en.wikipedia.org/wiki/Convolutional_neural_network#Design"
   ]
  },
  {
   "cell_type": "markdown",
   "metadata": {},
   "source": [
    "# Create the neural network"
   ]
  },
  {
   "cell_type": "code",
   "execution_count": 4,
   "metadata": {},
   "outputs": [],
   "source": [
    "# neural network layers (Conv2d, Linear, etc.) that will be trained\n",
    "# https://pytorch.org/docs/stable/nn.html\n",
    "import torch.nn as nn\n",
    "# Many functions (convolution, pooling, activation, etc.)\n",
    "# https://pytorch.org/docs/stable/nn.functional.html\n",
    "import torch.nn.functional as F\n",
    "\n",
    "# This NN implementation is from the pytorch github\n",
    "# https://github.com/pytorch/examples/blob/master/mnist/main.py\n",
    "\n",
    "# all nn layers defined and stored in vars within __init__\n",
    "# https://pytorch.org/docs/stable/nn.html#torch.nn.Conv2d\n",
    "# torch.nn.Conv2d(in_channels, out_channels, kernel_size, stride=1)\n",
    "\n",
    "class Net(nn.Module):\n",
    "    def __init__(self):\n",
    "        super(Net, self).__init__()\n",
    "        self.conv1 = nn.Conv2d(1, 32, 3, 1)\n",
    "        self.conv2 = nn.Conv2d(32, 64, 3, 1)\n",
    "        self.dropout1 = nn.Dropout2d(0.25)\n",
    "        self.dropout2 = nn.Dropout2d(0.5)\n",
    "        self.fc1 = nn.Linear(9216, 128)\n",
    "        self.fc2 = nn.Linear(128, 10)\n",
    "\n",
    "    def forward(self, x):\n",
    "        # comments were created by: print(x.shape)\n",
    "        # initial x shape: torch.Size([4, 1, 28, 28])\n",
    "        # 4 = batch_size\n",
    "        # 1 = number of channels (Greyscale will have 1, RGB with have 3)\n",
    "        # 28 = height\n",
    "        # 28 = width\n",
    "        x = self.conv1(x)       # torch.Size([4, 32, 26, 26])\n",
    "        x = F.relu(x)           # torch.Size([4, 32, 26, 26])\n",
    "        x = self.conv2(x)       # torch.Size([4, 64, 24, 24])\n",
    "        x = F.max_pool2d(x, 2)  # torch.Size([4, 64, 12, 12])\n",
    "        x = self.dropout1(x)    # torch.Size([4, 64, 12, 12])\n",
    "        x = torch.flatten(x, 1) # torch.Size([4, 9216])\n",
    "        x = self.fc1(x)         # torch.Size([4, 128])\n",
    "        x = F.relu(x)           # torch.Size([4, 128])\n",
    "        x = self.dropout2(x)    # torch.Size([4, 128])\n",
    "        x = self.fc2(x)         # torch.Size([4, 10])\n",
    "        output = F.log_softmax(x, dim=1) # torch.Size([4, 10])\n",
    "        return output\n",
    "\n",
    "use_cuda = torch.cuda.is_available()\n",
    "device = torch.device(\"cuda\" if use_cuda else \"cpu\")\n",
    "# Overide device when testing on CPU\n",
    "# device = 'cpu'\n",
    "\n",
    "net = Net().to(device)"
   ]
  },
  {
   "cell_type": "markdown",
   "metadata": {},
   "source": [
    "# Define loss function and optimizer"
   ]
  },
  {
   "cell_type": "code",
   "execution_count": 13,
   "metadata": {},
   "outputs": [],
   "source": [
    "# Various optimization algorithms are in:\n",
    "# https://pytorch.org/docs/stable/optim.html\n",
    "import torch.optim as optim\n",
    "\n",
    "\n",
    "# NLLLoss is used when you expect 1 of N classes\n",
    "# https://pytorch.org/docs/stable/generated/torch.nn.NLLLoss.html\n",
    "criterion = nn.NLLLoss()\n",
    "\n",
    "# Stochastic Gradient Descent\n",
    "# https://pytorch.org/docs/stable/optim.html#torch.optim.SGD\n",
    "# torch.optim.SGD(params, lr=<required parameter>, momentum=0, dampening=0, weight_decay=0, nesterov=False)\n",
    "# lr is the learning rate, how much to change weights based on current values\n",
    "# momentum will change how much to change weights based on previous changes\n",
    "# https://www.quora.com/What-is-the-difference-between-momentum-and-learning-rate\n",
    "optimizer = optim.SGD(net.parameters(), lr=0.001, momentum=0.9)"
   ]
  },
  {
   "cell_type": "markdown",
   "metadata": {},
   "source": [
    "# Define Training loop"
   ]
  },
  {
   "cell_type": "code",
   "execution_count": 14,
   "metadata": {},
   "outputs": [
    {
     "name": "stdout",
     "output_type": "stream",
     "text": [
      "[1,  2000] loss: 0.658\n",
      "[1,  4000] loss: 0.257\n",
      "[1,  6000] loss: 0.205\n",
      "[1,  8000] loss: 0.167\n",
      "[1, 10000] loss: 0.160\n",
      "[1, 12000] loss: 0.134\n",
      "[1, 14000] loss: 0.146\n",
      "[2,  2000] loss: 0.131\n",
      "[2,  4000] loss: 0.117\n",
      "[2,  6000] loss: 0.107\n",
      "[2,  8000] loss: 0.109\n",
      "[2, 10000] loss: 0.104\n",
      "[2, 12000] loss: 0.120\n",
      "[2, 14000] loss: 0.106\n",
      "[3,  2000] loss: 0.100\n",
      "[3,  4000] loss: 0.097\n",
      "[3,  6000] loss: 0.093\n",
      "[3,  8000] loss: 0.090\n",
      "[3, 10000] loss: 0.102\n",
      "[3, 12000] loss: 0.104\n",
      "[3, 14000] loss: 0.081\n",
      "[4,  2000] loss: 0.084\n",
      "[4,  4000] loss: 0.076\n",
      "[4,  6000] loss: 0.078\n",
      "[4,  8000] loss: 0.081\n",
      "[4, 10000] loss: 0.078\n",
      "[4, 12000] loss: 0.091\n",
      "[4, 14000] loss: 0.081\n",
      "Finished Training\n"
     ]
    }
   ],
   "source": [
    "for epoch in range(4):  # loop over the dataset twice\n",
    "\n",
    "    running_loss = 0.0\n",
    "    for batch_idx, (data, target) in enumerate(train_loader):\n",
    "        data, target = data.to(device), target.to(device)\n",
    "\n",
    "        # zero the parameter gradients\n",
    "        optimizer.zero_grad()\n",
    "\n",
    "        # forward + backward + optimize\n",
    "        outputs = net(data)\n",
    "        loss = criterion(outputs, target)\n",
    "        loss.backward()\n",
    "        optimizer.step()\n",
    "\n",
    "        # print statistics\n",
    "        running_loss += loss.item()\n",
    "        if batch_idx % 2000 == 1999:    # print every 2000 mini-batches\n",
    "            print('[%d, %5d] loss: %.3f' %\n",
    "                  (epoch + 1, batch_idx + 1, running_loss / 2000))\n",
    "            running_loss = 0.0\n",
    "\n",
    "print('Finished Training')"
   ]
  },
  {
   "cell_type": "markdown",
   "metadata": {},
   "source": [
    "# Create Test loader"
   ]
  },
  {
   "cell_type": "code",
   "execution_count": 15,
   "metadata": {},
   "outputs": [],
   "source": [
    "# Test Data loading should not modify the image \n",
    "mnist_test_tf = transforms.Compose([\n",
    "    transforms.ToTensor(),\n",
    "    transforms.Normalize((0.1307,), (0.3081,)) # Supplied with dataset (mean, std)\n",
    "])\n",
    "mnist_test_data = MNIST('data', train=False, download=True, transform=mnist_test_tf)\n",
    "\n",
    "test_loader = DataLoader(mnist_test_data, batch_size=4, shuffle=True, num_workers=2)"
   ]
  },
  {
   "cell_type": "markdown",
   "metadata": {},
   "source": [
    "# Run Evaluation Loop"
   ]
  },
  {
   "cell_type": "code",
   "execution_count": 16,
   "metadata": {},
   "outputs": [
    {
     "name": "stdout",
     "output_type": "stream",
     "text": [
      "\n",
      "Test set: Average loss: 0.0351, Accuracy: 9885/10000 (99%)\n",
      "\n"
     ]
    }
   ],
   "source": [
    "net.eval()\n",
    "test_loss = 0\n",
    "correct = 0\n",
    "with torch.no_grad():\n",
    "    for data, target in test_loader:\n",
    "        data, target = data.to(device), target.to(device)\n",
    "        output = net(data)\n",
    "        test_loss += F.nll_loss(output, target, reduction='sum').item()  # sum up batch loss\n",
    "        pred = output.argmax(dim=1, keepdim=True)  # get the index of the max log-probability\n",
    "        correct += pred.eq(target.view_as(pred)).sum().item()\n",
    "\n",
    "test_loss /= len(test_loader.dataset)\n",
    "\n",
    "print('\\nTest set: Average loss: {:.4f}, Accuracy: {}/{} ({:.0f}%)\\n'.format(\n",
    "    test_loss, correct, len(test_loader.dataset),\n",
    "    100. * correct / len(test_loader.dataset)))"
   ]
  },
  {
   "cell_type": "markdown",
   "metadata": {},
   "source": [
    "# View some results"
   ]
  },
  {
   "cell_type": "code",
   "execution_count": 23,
   "metadata": {},
   "outputs": [],
   "source": [
    "# Find one correctly classified and one misclassified\n",
    "\n",
    "found_bad = False\n",
    "found_good = False\n",
    "bad_example = None\n",
    "good_example = None\n",
    "\n",
    "with torch.no_grad():\n",
    "    for data, target in test_loader:\n",
    "        data, target = data.to(device), target.to(device)\n",
    "        output = net(data)\n",
    "        pred = output.argmax(dim=1, keepdim=True)  # get the index of the max log-probability\n",
    "        \n",
    "        for i in range (0,len(target)):\n",
    "            if not found_good and target[i] == pred[i]:\n",
    "                good_example = transforms.ToPILImage()(data[i].cpu()), target[i].cpu().numpy(), pred[i][0].cpu().numpy()\n",
    "                found_good = True\n",
    "            if not found_bad and target[i] != pred[i]:\n",
    "                bad_example = transforms.ToPILImage()(data[i].cpu()), target[i].cpu().numpy(), pred[i][0].cpu().numpy()\n",
    "                found_bad = True\n",
    "        \n",
    "        if found_bad and found_good:\n",
    "            break"
   ]
  },
  {
   "cell_type": "code",
   "execution_count": 24,
   "metadata": {},
   "outputs": [
    {
     "data": {
      "text/plain": [
       "<matplotlib.image.AxesImage at 0x7f1fbc6908d0>"
      ]
     },
     "execution_count": 24,
     "metadata": {},
     "output_type": "execute_result"
    },
    {
     "data": {
      "image/png": "[encoded data removed]",
      "text/plain": [
       "<Figure size 72x72 with 1 Axes>"
      ]
     },
     "metadata": {
      "needs_background": "light"
     },
     "output_type": "display_data"
    }
   ],
   "source": [
    "img, target_label, pred_label = good_example\n",
    "\n",
    "fig = plt.figure(figsize=(1,1))\n",
    "ax1 = fig.add_subplot(1,1,1)\n",
    "plt.title(\"Predicted label: \" + str(pred_label) + \" Target label: \" + str(target_label))\n",
    "ax1.imshow(img, cmap=\"gray\")"
   ]
  },
  {
   "cell_type": "code",
   "execution_count": 25,
   "metadata": {},
   "outputs": [
    {
     "data": {
      "text/plain": [
       "<matplotlib.image.AxesImage at 0x7f1fcdfcf690>"
      ]
     },
     "execution_count": 25,
     "metadata": {},
     "output_type": "execute_result"
    },
    {
     "data": {
      "image/png": "[encoded data removed]",
      "text/plain": [
       "<Figure size 72x72 with 1 Axes>"
      ]
     },
     "metadata": {
      "needs_background": "light"
     },
     "output_type": "display_data"
    }
   ],
   "source": [
    "img, target_label, pred_label = bad_example\n",
    "\n",
    "fig = plt.figure(figsize=(1,1))\n",
    "ax1 = fig.add_subplot(1,1,1)\n",
    "plt.title(\"Predicted label: \" + str(pred_label) + \" Target label: \" + str(target_label))\n",
    "ax1.imshow(img, cmap=\"gray\")"
   ]
  },
  {
   "cell_type": "code",
   "execution_count": null,
   "metadata": {},
   "outputs": [],
   "source": []
  }
 ],
 "metadata": {
  "kernelspec": {
   "display_name": "Python 3",
   "language": "python",
   "name": "python3"
  },
  "language_info": {
   "codemirror_mode": {
    "name": "ipython",
    "version": 3
   },
   "file_extension": ".py",
   "mimetype": "text/x-python",
   "name": "python",
   "nbconvert_exporter": "python",
   "pygments_lexer": "ipython3",
   "version": "3.7.5"
  }
 },
 "nbformat": 4,
 "nbformat_minor": 2
}
