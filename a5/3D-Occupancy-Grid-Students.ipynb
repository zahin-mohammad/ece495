{
 "cells": [
  {
   "cell_type": "markdown",
   "metadata": {},
   "source": [
    "# 3D Occupancy Grid with ibeo Lux Laser Scanner"
   ]
  },
  {
   "cell_type": "markdown",
   "metadata": {},
   "source": [
    "![ibeo Lux](http://www.mechlab.de/wp-content/uploads/2012/02/ibeoLUX.jpg)"
   ]
  },
  {
   "cell_type": "markdown",
   "metadata": {},
   "source": [
    "In this assignment, you will have three tasks to generate a probabilistic occupancy grid from Lidar scanning data.\n",
    "\n",
    "1) Write code to convert data in spherical coordinates to Cartesian coordinates in the function `ibeo2XYZ()`.\n",
    "\n",
    "2) Perform the logodds update for the `grid` global variable in `insertPointcloudBRESENHAM()`.\n",
    "\n",
    "3) Convert the logodds grid to a probablistic occupancy grid.\n",
    "\n",
    "These tasks are marked with TODOs. Additional supplemental information is given throughout the notebook. \n",
    "\n",
    "With your submitted notebook, please also include written answers to the following questions:\n",
    "\n",
    "1) What are the computational advantages of using logodds when generating our occupancy grid?\n",
    "\n",
    "2) Is the angle phi in our Spherical to Cartesian calculation the same as the polar angle in standard Spherical coordinates? Why?"
   ]
  },
  {
   "cell_type": "code",
   "execution_count": null,
   "metadata": {},
   "outputs": [],
   "source": [
    "import numpy as np\n",
    "import time\n",
    "import pandas as pd"
   ]
  },
  {
   "cell_type": "code",
   "execution_count": null,
   "metadata": {},
   "outputs": [],
   "source": [
    "import matplotlib.pyplot as plt\n",
    "from mpl_toolkits.mplot3d import Axes3D\n",
    "from matplotlib import cm\n",
    "from ipywidgets import interact\n",
    "import ipywidgets\n",
    "%matplotlib inline"
   ]
  },
  {
   "cell_type": "markdown",
   "metadata": {},
   "source": [
    "### Create Empty Grid"
   ]
  },
  {
   "cell_type": "code",
   "execution_count": null,
   "metadata": {},
   "outputs": [],
   "source": [
    "l = 10.0 # Length (m)\n",
    "b = 10.0  # Width (m)\n",
    "h = 2.0  # Height (m)\n",
    "\n",
    "r = 0.1 # Resolution (m/gridcell)"
   ]
  },
  {
   "cell_type": "markdown",
   "metadata": {},
   "source": [
    "## Generate a LogOdds Grid"
   ]
  },
  {
   "cell_type": "markdown",
   "metadata": {},
   "source": [
    "Why LogOdds? It is numerically stable around $p=0$ and $p=1$, and it reduces the computation to update the Grid (Bayes Rule) to just an addition.\n"
   ]
  },
  {
   "cell_type": "code",
   "execution_count": null,
   "metadata": {},
   "outputs": [],
   "source": [
    "p = np.arange(0.01, 1.0, 0.01)\n",
    "lo = np.log(p/(1-p))\n",
    "plt.plot(p, lo)\n",
    "plt.xticks(np.arange(0, 1.1, 0.1))\n",
    "plt.xlabel('Probability $p$')\n",
    "plt.ylabel(r'Log Odds, $\\log(\\frac{p}{1-p})$')"
   ]
  },
  {
   "cell_type": "markdown",
   "metadata": {},
   "source": [
    "So, an initial uncertainty ($p=0.5$) is a zero in LogOdds. That's fine, because it is a very fast initialization of the grid!\n",
    "In order to store log(odds), we need negative values and decimal values.\n"
   ]
  },
  {
   "cell_type": "code",
   "execution_count": null,
   "metadata": {},
   "outputs": [],
   "source": [
    "print(\"{}x{}x{} Grid\".format(int(round(l/r)), int(round(b/r)), int(round(h/r))))\n",
    "startTime = time.time()\n",
    "\n",
    "grid = np.zeros((int(round(l/r)), int(round(b/r)), int(round(h/r))), dtype=np.float32) # Log Odds Grid must be initialized with zeros!\n",
    "\n",
    "print(\"Stats: {:.2f}s, {:.2f}GB\".format(time.time() - startTime, (grid.nbytes/1024.0**2)))"
   ]
  },
  {
   "cell_type": "markdown",
   "metadata": {},
   "source": [
    "### 3D View\n",
    "This helper function will be useful for our 3D plots later."
   ]
  },
  {
   "cell_type": "code",
   "execution_count": null,
   "metadata": {},
   "outputs": [],
   "source": [
    "def plot3Dgrid(grid, az, el):\n",
    "    # Plot the surface.\n",
    "    plt3d = plt.figure(figsize=(12, 6)).gca(projection='3d', facecolor='w')\n",
    "\n",
    "    # Create x,y mesh.\n",
    "    ll, bb = np.meshgrid(range(grid.shape[1]), range(grid.shape[0]))\n",
    "\n",
    "    for z in range(grid.shape[2]):\n",
    "        if not (np.max(grid[:,:,z])==np.min(grid[:,:,z])): # don't show the untouched level\n",
    "            cp = plt3d.contourf(ll, bb, grid[:,:,z], offset = z, alpha=0.3, cmap=cm.Greens)\n",
    "\n",
    "    cbar = plt.colorbar(cp, shrink=0.7, aspect=20)\n",
    "    cbar.ax.set_ylabel('$P(m|z,x)$')\n",
    "    \n",
    "    plt3d.set_xlabel('X')\n",
    "    plt3d.set_ylabel('Y')\n",
    "    plt3d.set_zlabel('Z')\n",
    "    plt3d.set_xlim3d(0, grid.shape[0])\n",
    "    plt3d.set_ylim3d(0, grid.shape[1])\n",
    "    plt3d.set_zlim3d(0, grid.shape[2])\n",
    "    plt3d.view_init(az, el)\n",
    "    return plt3d"
   ]
  },
  {
   "cell_type": "markdown",
   "metadata": {},
   "source": [
    "## Integrate a measurement with BRESENHAM Algorithm"
   ]
  },
  {
   "cell_type": "markdown",
   "metadata": {},
   "source": [
    "Amanatides, J., & Woo, A. (1987). A fast voxel traversal algorithm for ray tracing. Proceedings of EUROGRAPHICS, i. Retrieved from http://www.cse.yorku.ca/~amana/research/grid.pdf\n",
    "\n",
    "Here is a Python Implementation of BRESENHAM Algorithm: https://gist.github.com/salmonmoose/2760072"
   ]
  },
  {
   "cell_type": "code",
   "execution_count": null,
   "metadata": {},
   "outputs": [],
   "source": [
    "def bresenham3D(startPoint, endPoint):\n",
    "   # by Anton Fletcher\n",
    "   # Thank you!\n",
    "   path = [] \n",
    "    \n",
    "   startPoint = [int(startPoint[0]),int(startPoint[1]),int(startPoint[2])]\n",
    "   endPoint = [int(endPoint[0]),int(endPoint[1]),int(endPoint[2])]\n",
    " \n",
    "   steepXY = (np.abs(endPoint[1] - startPoint[1]) > np.abs(endPoint[0] - startPoint[0]))\n",
    "   if(steepXY):   \n",
    "      startPoint[0], startPoint[1] = startPoint[1], startPoint[0]\n",
    "      endPoint[0], endPoint[1] = endPoint[1], endPoint[0]\n",
    " \n",
    "   steepXZ = (np.abs(endPoint[2] - startPoint[2]) > np.abs(endPoint[0] - startPoint[0]))\n",
    "   if(steepXZ):\n",
    "      startPoint[0], startPoint[2] = startPoint[2], startPoint[0]\n",
    "      endPoint[0], endPoint[2] = endPoint[2], endPoint[0]\n",
    " \n",
    "   delta = [np.abs(endPoint[0] - startPoint[0]), np.abs(endPoint[1] - startPoint[1]), np.abs(endPoint[2] - startPoint[2])]\n",
    "\n",
    "   errorXY = delta[0] / 2\n",
    "   errorXZ = delta[0] / 2\n",
    " \n",
    "   step = [\n",
    "      -1 if startPoint[0] > endPoint[0] else 1,\n",
    "      -1 if startPoint[1] > endPoint[1] else 1,\n",
    "      -1 if startPoint[2] > endPoint[2] else 1\n",
    "   ]\n",
    " \n",
    "   y = startPoint[1]\n",
    "   z = startPoint[2]\n",
    " \n",
    "   for x in range(startPoint[0], endPoint[0], step[0]):\n",
    "      point = [x, y, z]\n",
    " \n",
    "      if(steepXZ):\n",
    "          point[0], point[2] = point[2], point[0]\n",
    "      if(steepXY):\n",
    "          point[0], point[1] = point[1], point[0]\n",
    "\n",
    " \n",
    "      errorXY -= delta[1]\n",
    "      errorXZ -= delta[2]\n",
    " \n",
    "      if(errorXY < 0):\n",
    "          y += step[1]\n",
    "          errorXY += delta[0]\n",
    " \n",
    "      if(errorXZ < 0):\n",
    "          z += step[2]\n",
    "          errorXZ += delta[0]\n",
    "\n",
    "      path.append(point)\n",
    "\n",
    "   return path"
   ]
  },
  {
   "cell_type": "code",
   "execution_count": null,
   "metadata": {},
   "outputs": [],
   "source": [
    "import string\n",
    "letters = string.ascii_lowercase"
   ]
  },
  {
   "cell_type": "code",
   "execution_count": null,
   "metadata": {},
   "outputs": [],
   "source": [
    "goal = (5.5, 3.5, 0.0)\n",
    "\n",
    "plt.figure(figsize=(5.0,3.6))\n",
    "plt.scatter(goal[0], goal[1], s=50, c='r')\n",
    "plt.plot((0, goal[0]), (0, goal[1]), c='k', alpha=0.5)\n",
    "plt.axis('equal');\n",
    "plt.xlim(0, 6)\n",
    "plt.ylim(0, 4)\n",
    "plt.xlabel('X')\n",
    "plt.ylabel('Y')\n",
    "\n",
    "# Annotations\n",
    "cells = bresenham3D((0,0,0), (goal[0], goal[1], 0.0))\n",
    "\n",
    "for i, cell in enumerate(cells):\n",
    "    plt.text(cell[0]+0.5, cell[1]+0.5, letters[i], ha='center', va='center')\n",
    "\n",
    "plt.savefig('BRESENHAM-Raycasting.png', dpi=150)"
   ]
  },
  {
   "cell_type": "markdown",
   "metadata": {},
   "source": [
    "Does not hit all traversed grid cells"
   ]
  },
  {
   "cell_type": "markdown",
   "metadata": {},
   "source": [
    "### Sensor Position and Orientation"
   ]
  },
  {
   "cell_type": "markdown",
   "metadata": {},
   "source": [
    "For rotation and translation in homogeneous coordinates, everything can be done via Matrix multiplication.\n",
    "\n",
    "$$\\left[\\begin{matrix}x \\\\ y \\\\ z \\\\ 1\\end{matrix}\\right]_\\text{Endpoint} = \\left[\\begin{matrix} R_{3x3} & t_{3x1} \\\\ 0 & 1\\end{matrix}\\right] \\cdot \\left[\\begin{matrix}x \\\\ y \\\\ z \\\\ 1\\end{matrix}\\right]_\\text{Measurement}$$\n",
    "\n",
    "where $R$ is the rotation matrix and $t$ is the displacement vector."
   ]
  },
  {
   "cell_type": "code",
   "execution_count": null,
   "metadata": {},
   "outputs": [],
   "source": [
    "def Rypr(y, p, r):\n",
    "    '''\n",
    "    Rotation matrix for y=yaw, p=pitch, r=roll, in degrees\n",
    "    '''\n",
    "    # from Degree to Radians\n",
    "    y = y*np.pi/180.0\n",
    "    p = p*np.pi/180.0\n",
    "    r = r*np.pi/180.0\n",
    "    \n",
    "    Rr = np.matrix([[1.0, 0.0, 0.0],[0.0, np.cos(r), -np.sin(r)],[0.0, np.sin(r), np.cos(r)]])\n",
    "    Rp = np.matrix([[np.cos(p), 0.0, np.sin(p)],[0.0, 1.0, 0.0],[-np.sin(p), 0.0, np.cos(p)]])\n",
    "    Ry = np.matrix([[np.cos(y), -np.sin(y), 0.0],[np.sin(y), np.cos(y), 0.0],[0.0, 0.0, 1.0]])\n",
    "    \n",
    "    return Ry*Rp*Rr"
   ]
  },
  {
   "cell_type": "code",
   "execution_count": null,
   "metadata": {},
   "outputs": [],
   "source": [
    "def ibeo2XYZ(theta, dist, layer, R, t):\n",
    "    '''\n",
    "    Computes the Cartesian x, y, and z coordinates from the polar coordinates of the IBEO Lux laser scanner.\n",
    "   \n",
    "    Input:\n",
    "        - theta: horizontal angle\n",
    "        - dist : polar distance\n",
    "        - layer: level\n",
    "        - R    : Euler rotation matrix (rotation of laser scanner)\n",
    "        - t    : displacement vector (position of Laserscanner)\n",
    "    '''\n",
    "    if not R.shape == (3,3):\n",
    "        raise ValueError('Rotation matrix must be 3x3.')\n",
    "    if not t.shape == (3,1):\n",
    "        raise ValueError('Displacement vector must be 3x1: [X],[Y],[Z].')\n",
    "    \n",
    "    \n",
    "    # Ibeo Lux has a 3.2° aperture angle and 4 vertical levels.\n",
    "    aperture_angle = 3.2\n",
    "    levels = 4\n",
    "    \n",
    "    # Calculate the angle of incidence of the current layer's point to the ground plane.\n",
    "    # Input layer varies from 0 to 3, and the aperture layers are centered at the horizontal.\n",
    "    phi = (layer * aperture_angle/(levels-1) - aperture_angle/2.0) * np.pi/180.0\n",
    "    \n",
    "    # TODO ###################################################################################\n",
    "    # Compute the cartesian coordinates from the radius dist, horizontal angle theta, and the\n",
    "    # vertical angle phi. Note that phi is the angle from the ground plane to the ray, not from\n",
    "    # the ray to the vertical axis!\n",
    "    #X = ...\n",
    "    #Y = ...\n",
    "    #Z = ...\n",
    "    \n",
    "    # Start with the identity matrix.\n",
    "    RSensor = np.eye(4)\n",
    "\n",
    "    # Rotation portion.\n",
    "    RSensor[np.ix_([0,1,2],[0,1,2])] = R\n",
    "\n",
    "    # Translation portion.\n",
    "    RSensor[np.ix_([0,1,2],[3])] = t\n",
    "    \n",
    "    Pointcloud = np.array((X,Y,Z,np.ones(np.size(X))))\n",
    "\n",
    "    # Homogeneous multiplication of points for rotation + translation.\n",
    "    [xe,ye,ze,w] = np.dot(RSensor, Pointcloud)\n",
    "    \n",
    "    return np.array([xe, ye, ze])"
   ]
  },
  {
   "cell_type": "markdown",
   "metadata": {},
   "source": [
    "### Load some Ibeo Lux Measurements"
   ]
  },
  {
   "cell_type": "code",
   "execution_count": null,
   "metadata": {},
   "outputs": [],
   "source": [
    "# Load Real World Ibeo Lux Measurements.\n",
    "data = pd.read_csv('Measurements.txt', delimiter='|')"
   ]
  },
  {
   "cell_type": "code",
   "execution_count": null,
   "metadata": {},
   "outputs": [],
   "source": [
    "data.head(5)"
   ]
  },
  {
   "cell_type": "markdown",
   "metadata": {},
   "source": [
    "#### Filter out an arbitrary measurement and bounded angle"
   ]
  },
  {
   "cell_type": "code",
   "execution_count": null,
   "metadata": {},
   "outputs": [],
   "source": [
    "timestamp = 1341907053031\n",
    "f = (data['# <Timestamp>']==timestamp) & (data['<Angle>']<0.5) & (data['<Angle>']>-0.5)\n",
    "\n",
    "angles = data['<Angle>'][f]\n",
    "distance = data['<Radius>'][f]/100.0\n",
    "layer = data['<Level>'][f]"
   ]
  },
  {
   "cell_type": "code",
   "execution_count": null,
   "metadata": {},
   "outputs": [],
   "source": [
    "yaw   = 0.0 #  Yaw in Degrees\n",
    "pitch = 0.0 #  Pitch in Degrees\n",
    "roll  = 0.0 #  Roll in Degrees\n",
    "dx= 0.0 #  Delta X (m)\n",
    "dy= 5.0 #  Delta Y (m)\n",
    "dz= 1.0 #  Delta Z (m)"
   ]
  },
  {
   "cell_type": "code",
   "execution_count": null,
   "metadata": {},
   "outputs": [],
   "source": [
    "# Convert from spherical coordinates to Cartesian.\n",
    "R = Rypr(yaw, pitch, roll)\n",
    "t = np.array([[dx], [dy], [dz]]) \n",
    "[xe, ye, ze] = ibeo2XYZ(angles.values, distance.values, layer.values, R, t)"
   ]
  },
  {
   "cell_type": "code",
   "execution_count": null,
   "metadata": {},
   "outputs": [],
   "source": [
    "# Plot the location of the scanner (black), and the pointcloud (red).\n",
    "plt3d = plt.figure(figsize=(12, 6)).gca(projection='3d', facecolor='w')\n",
    "plt3d.scatter(xe, ye, ze, c='r', label='Laserscanner Pointcloud')\n",
    "plt3d.scatter(t[0], t[1], t[2], c='k', s=200, label='ibeo Lux')\n",
    "plt3d.view_init(45, -115)\n",
    "plt3d.axis('equal')\n",
    "plt3d.set_xlabel('X')\n",
    "plt3d.set_ylabel('Y')"
   ]
  },
  {
   "cell_type": "markdown",
   "metadata": {},
   "source": [
    "## Function which integrates the Measurement via Inverse Sensor Model"
   ]
  },
  {
   "cell_type": "markdown",
   "metadata": {},
   "source": [
    "Values for hit and miss probabilities are taken from Hornung, A., Wurm, K. M., Bennewitz, M., Stachniss, C., & Burgard, W. (2013). OctoMap: an efficient probabilistic 3D mapping framework based on octrees. Autonomous Robots, 34(3), 189–206. doi:10.1007/s10514-012-9321-0"
   ]
  },
  {
   "cell_type": "code",
   "execution_count": null,
   "metadata": {},
   "outputs": [],
   "source": [
    "# in LogOdds Notation!\n",
    "loccupied = 0.85\n",
    "lfree = -0.4\n",
    "\n",
    "lmin = -2.0\n",
    "lmax = 3.5"
   ]
  },
  {
   "cell_type": "code",
   "execution_count": null,
   "metadata": {},
   "outputs": [],
   "source": [
    "def insertPointcloudBRESENHAM(tSensor, xe,ye,ze):    \n",
    "    for i,val in enumerate(xe):        \n",
    "        # Insert Endpoints.\n",
    "        y=int(xe[i])\n",
    "        x=int(ye[i]) # Coordinate switch between X & Y!\n",
    "        z=int(ze[i])\n",
    "\n",
    "        # Inverse Sensor Model.\n",
    "        # TODO ###############################################################################\n",
    "        # This point is occupied by an object. Increment its logodds in the grid by loccupied.\n",
    "        # Be sure to clamp to the maximum logodds value, lmax.\n",
    "        #grid[x,y,z] = ...\n",
    "\n",
    "        # TODO ###############################################################################\n",
    "        # These grid cells are along the ray of the scanner. Because of this, they are unlikely to \n",
    "        # be occupied. Reduce their logodds using lfree.\n",
    "        for (y,x,z) in bresenham3D(tSensor, (xe[i], ye[i], ze[i])): # Coordinate switch between X & Y!\n",
    "            #grid[x,y,z] = ...\n",
    "   "
   ]
  },
  {
   "cell_type": "markdown",
   "metadata": {},
   "source": [
    "### Sensor Origin"
   ]
  },
  {
   "cell_type": "code",
   "execution_count": null,
   "metadata": {},
   "outputs": [],
   "source": [
    "tSensor = t/r  # Translation (shift from 0,0,0) in Grid Cell Numbers\n",
    "tSensor"
   ]
  },
  {
   "cell_type": "code",
   "execution_count": null,
   "metadata": {},
   "outputs": [],
   "source": [
    "# integrate the measurement 5 times\n",
    "for m in range(5):\n",
    "    try:\n",
    "        insertPointcloudBRESENHAM(tSensor, xe/r,ye/r,ze/r)\n",
    "    except:\n",
    "        print('Error while inserting the measurement. Is the grid too small?')"
   ]
  },
  {
   "cell_type": "markdown",
   "metadata": {},
   "source": [
    "### 2D Plot of Grid Layer Z\n",
    "Here we plot the projection of the laser scan in the 2D plane. The z slider controls which constant z plane we project into."
   ]
  },
  {
   "cell_type": "code",
   "execution_count": null,
   "metadata": {},
   "outputs": [],
   "source": [
    "@interact\n",
    "def plotmultivargauss(z = ipywidgets.IntSlider(min=0, max=np.max(grid.shape[2])-1, step=1, value=10, description=\"\")):\n",
    "    plt.figure(figsize=(int(round(l/2)), int(round(b/2))))\n",
    "    plt.contourf(grid[:,:,z], cmap=cm.Greens)\n",
    "    plt.axis('equal')\n",
    "    plt.xlabel('X')\n",
    "    plt.ylabel('Y')"
   ]
  },
  {
   "cell_type": "markdown",
   "metadata": {},
   "source": [
    "### 3D Plot\n",
    "Here we perform the full 3D plot."
   ]
  },
  {
   "cell_type": "code",
   "execution_count": null,
   "metadata": {},
   "outputs": [],
   "source": [
    "@interact\n",
    "def plotmultivargauss(az = ipywidgets.IntSlider(min=-90.0, max=90.0, step=1.0, value=45.0, description=\"\"), \\\n",
    "                      el = ipywidgets.IntSlider(min=-180.0, max=180.0, step=1.0, value=-115.0, description=\"\")):\n",
    "\n",
    "    plot3Dgrid(grid, az, el)"
   ]
  },
  {
   "cell_type": "code",
   "execution_count": null,
   "metadata": {},
   "outputs": [],
   "source": [
    "print('Max Grid Value (Log Odds): %.2f' % np.max(grid))\n",
    "print('Min Grid Value (Log Odds): %.2f' % np.min(grid))"
   ]
  },
  {
   "cell_type": "markdown",
   "metadata": {},
   "source": [
    "## From LogOdds Occupancy Grid to Probability Grid"
   ]
  },
  {
   "cell_type": "markdown",
   "metadata": {},
   "source": [
    "The conversion from LogOdds notation to probabilities could be achieved by following formula:\n",
    "\n",
    "$$P(l) = 1-\\cfrac{1}{1+e^{lo}}$$ with $lo$=LogOdds Value"
   ]
  },
  {
   "cell_type": "code",
   "execution_count": null,
   "metadata": {},
   "outputs": [],
   "source": [
    "# TODO ####################################################################\n",
    "# Convert the logodds grid to a probabilisitic occupancy grid, using the formula above.\n",
    "#gridP = ..."
   ]
  },
  {
   "cell_type": "code",
   "execution_count": null,
   "metadata": {},
   "outputs": [],
   "source": [
    "plot3Dgrid(gridP, 45, -115)\n",
    "plt.savefig('3D-Occupancy-Grid.png')"
   ]
  },
  {
   "cell_type": "code",
   "execution_count": null,
   "metadata": {},
   "outputs": [],
   "source": [
    "print('Max Grid Value (Probability): %.2f' % np.max(gridP))\n",
    "print('Min Grid Value (Probability): %.2f' % np.min(gridP))"
   ]
  },
  {
   "cell_type": "markdown",
   "metadata": {},
   "source": [
    "## Convolve the Map for Path Planning\n",
    "We convolve our 3D map with a Gaussian filter to output a smooth occupancy grid for motion planning."
   ]
  },
  {
   "cell_type": "code",
   "execution_count": null,
   "metadata": {},
   "outputs": [],
   "source": [
    "from scipy.ndimage import gaussian_filter"
   ]
  },
  {
   "cell_type": "code",
   "execution_count": null,
   "metadata": {},
   "outputs": [],
   "source": [
    "blurmap = gaussian_filter(gridP, 0.4)"
   ]
  },
  {
   "cell_type": "code",
   "execution_count": null,
   "metadata": {},
   "outputs": [],
   "source": [
    "plot3Dgrid(blurmap, 45, -115)"
   ]
  },
  {
   "cell_type": "code",
   "execution_count": null,
   "metadata": {},
   "outputs": [],
   "source": [
    "print('Max Grid Value (Probability): %.2f' % np.max(blurmap))\n",
    "print('Min Grid Value (Probability): %.2f' % np.min(blurmap))"
   ]
  }
 ],
 "metadata": {
  "kernelspec": {
   "display_name": "Python 3",
   "language": "python",
   "name": "python3"
  },
  "language_info": {
   "codemirror_mode": {
    "name": "ipython",
    "version": 3
   },
   "file_extension": ".py",
   "mimetype": "text/x-python",
   "name": "python",
   "nbconvert_exporter": "python",
   "pygments_lexer": "ipython3",
   "version": "3.5.2"
  },
  "widgets": {
   "state": {},
   "version": "1.1.2"
  }
 },
 "nbformat": 4,
 "nbformat_minor": 1
}
